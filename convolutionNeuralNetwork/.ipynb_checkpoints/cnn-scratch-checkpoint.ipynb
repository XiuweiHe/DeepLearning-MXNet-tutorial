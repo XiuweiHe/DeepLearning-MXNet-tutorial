{
 "cells": [
  {
   "cell_type": "code",
   "execution_count": 15,
   "metadata": {},
   "outputs": [
    {
     "name": "stdout",
     "output_type": "stream",
     "text": [
      "input:  \n",
      "[[[[ 0.  1.  2.]\n",
      "   [ 3.  4.  5.]\n",
      "   [ 6.  7.  8.]]]]\n",
      "<NDArray 1x1x3x3 @cpu(0)> \n",
      " weight: \n",
      "[[[[ 0.  1.]\n",
      "   [ 2.  3.]]]]\n",
      "<NDArray 1x1x2x2 @cpu(0)> \n",
      "bias: \n",
      "[ 1.]\n",
      "<NDArray 1 @cpu(0)> \n",
      "output:  \n",
      "[[[[ 20.  26.]\n",
      "   [ 38.  44.]]]]\n",
      "<NDArray 1x1x2x2 @cpu(0)>\n"
     ]
    }
   ],
   "source": [
    "\"\"\"\n",
    "1. 卷积层\n",
    "\"\"\"\n",
    "# 输入数据格式为 batch x channel x height x weight\n",
    "# 权重数据格式为 output_channels x input_channels x height x weight\n",
    "# 如下 input_filter and output filter 都是1\n",
    "\n",
    "from mxnet import nd\n",
    "\n",
    "w = nd.arange(4).reshape((1, 1, 2, 2))\n",
    "b = nd.array([1])\n",
    "data = nd.arange(9).reshape((1, 1, 3, 3))\n",
    "out = nd.Convolution(data, w, b, kernel=w.shape[2:], num_filter = w.shape[1])\n",
    "\n",
    "print('input: ',data, '\\n weight:', w, '\\nbias:', b, '\\noutput: ',out)"
   ]
  },
  {
   "cell_type": "code",
   "execution_count": 16,
   "metadata": {},
   "outputs": [
    {
     "name": "stdout",
     "output_type": "stream",
     "text": [
      "input:  \n",
      "[[[[ 0.  1.  2.]\n",
      "   [ 3.  4.  5.]\n",
      "   [ 6.  7.  8.]]]]\n",
      "<NDArray 1x1x3x3 @cpu(0)> \n",
      " weight: \n",
      "[[[[ 0.  1.]\n",
      "   [ 2.  3.]]]]\n",
      "<NDArray 1x1x2x2 @cpu(0)> \n",
      "bias: \n",
      "[ 1.]\n",
      "<NDArray 1 @cpu(0)> \n",
      "output:  \n",
      "[[[[  1.   9.]\n",
      "   [ 22.  44.]]]]\n",
      "<NDArray 1x1x2x2 @cpu(0)>\n"
     ]
    }
   ],
   "source": [
    "# set striding size and padding size\n",
    "out = nd.Convolution(data, w, b, kernel=w.shape[2:], num_filter = w.shape[1],\n",
    "                    stride = (2, 2), pad= (1, 1))\n",
    "\n",
    "print('input: ',data, '\\n weight:', w, '\\nbias:', b, '\\noutput: ',out)"
   ]
  },
  {
   "cell_type": "markdown",
   "metadata": {},
   "source": [
    "当输入数据有多个通道的时候，每个通道会有对应的权重，然后会对每个通道做卷积之后在通道之间求和\n",
    "$$conv(data,w,b)=\\sum_{i}{conv(data[:,i,:,:],w[:,i,:,:],b)}$$"
   ]
  },
  {
   "cell_type": "code",
   "execution_count": 17,
   "metadata": {},
   "outputs": [
    {
     "name": "stdout",
     "output_type": "stream",
     "text": [
      "input: \n",
      "[[[[  0.   1.   2.]\n",
      "   [  3.   4.   5.]\n",
      "   [  6.   7.   8.]]\n",
      "\n",
      "  [[  9.  10.  11.]\n",
      "   [ 12.  13.  14.]\n",
      "   [ 15.  16.  17.]]]]\n",
      "<NDArray 1x2x3x3 @cpu(0)> \n",
      "\n",
      "weight: \n",
      "[[[[ 0.  1.]\n",
      "   [ 2.  3.]]\n",
      "\n",
      "  [[ 4.  5.]\n",
      "   [ 6.  7.]]]]\n",
      "<NDArray 1x2x2x2 @cpu(0)> \n",
      "\n",
      "bias: \n",
      "[ 1.]\n",
      "<NDArray 1 @cpu(0)> \n",
      "\n",
      "output: \n",
      "[[[[ 269.  297.]\n",
      "   [ 353.  381.]]]]\n",
      "<NDArray 1x1x2x2 @cpu(0)>\n"
     ]
    }
   ],
   "source": [
    "w = nd.arange(8).reshape((1,2,2,2))\n",
    "data = nd.arange(18).reshape((1,2,3,3))\n",
    "\n",
    "out = nd.Convolution(data, w, b, kernel=w.shape[2:], num_filter=w.shape[0])\n",
    "\n",
    "print('input:', data, '\\n\\nweight:', w, '\\n\\nbias:', b, '\\n\\noutput:', out)"
   ]
  },
  {
   "cell_type": "markdown",
   "metadata": {},
   "source": [
    "当输出需要多通道时，每个输出通道有对应权重，然后每个通道上做卷积。\n",
    "\n",
    "$$conv(data,w,b)[:,i,:,:]=conv(data,w[i,:,:,:],b[i])$$"
   ]
  },
  {
   "cell_type": "markdown",
   "metadata": {},
   "source": [
    "## 池化层（pooling）\n",
    "因为卷积层每次作用在一个窗口，它对位置很敏感。池化层能够很好的缓解这个问题。它跟卷积类似每次看一个小窗口，然后选出窗口里面最大的元素，或者平均元素作为输出。"
   ]
  },
  {
   "cell_type": "code",
   "execution_count": 18,
   "metadata": {},
   "outputs": [
    {
     "name": "stdout",
     "output_type": "stream",
     "text": [
      "data: \n",
      "[[[[  0.   1.   2.]\n",
      "   [  3.   4.   5.]\n",
      "   [  6.   7.   8.]]\n",
      "\n",
      "  [[  9.  10.  11.]\n",
      "   [ 12.  13.  14.]\n",
      "   [ 15.  16.  17.]]]]\n",
      "<NDArray 1x2x3x3 @cpu(0)> \n",
      "\n",
      "max pooling: \n",
      "[[[[  4.   5.]\n",
      "   [  7.   8.]]\n",
      "\n",
      "  [[ 13.  14.]\n",
      "   [ 16.  17.]]]]\n",
      "<NDArray 1x2x2x2 @cpu(0)> \n",
      "\n",
      "avg pooling: \n",
      "[[[[  2.   3.]\n",
      "   [  5.   6.]]\n",
      "\n",
      "  [[ 11.  12.]\n",
      "   [ 14.  15.]]]]\n",
      "<NDArray 1x2x2x2 @cpu(0)>\n"
     ]
    }
   ],
   "source": [
    "data = nd.arange(18).reshape((1,2,3,3))\n",
    "\n",
    "max_pool = nd.Pooling(data=data, pool_type=\"max\", kernel=(2,2))\n",
    "avg_pool = nd.Pooling(data=data, pool_type=\"avg\", kernel=(2,2))\n",
    "\n",
    "print('data:', data, '\\n\\nmax pooling:', max_pool, '\\n\\navg pooling:', avg_pool)"
   ]
  },
  {
   "cell_type": "markdown",
   "metadata": {},
   "source": [
    "## 建立一个卷积网络模型"
   ]
  },
  {
   "cell_type": "code",
   "execution_count": 19,
   "metadata": {},
   "outputs": [],
   "source": [
    "\"\"\"\n",
    "1. 获取数据\n",
    "\"\"\"\n",
    "import sys\n",
    "sys.path.append('..')\n",
    "import utils\n",
    "\n",
    "batch_size = 256\n",
    "train_data, test_data = utils.load_data_fashion_mnist(batch_size)"
   ]
  },
  {
   "cell_type": "code",
   "execution_count": 20,
   "metadata": {},
   "outputs": [
    {
     "data": {
      "text/plain": [
       "cpu(0)"
      ]
     },
     "execution_count": 20,
     "metadata": {},
     "output_type": "execute_result"
    }
   ],
   "source": [
    "\"\"\"\n",
    "2. 定义模型\n",
    "\"\"\"\n",
    "# 选择默认的计算设备\n",
    "import mxnet as mx\n",
    "\n",
    "try:\n",
    "    ctx = mx.gpu()\n",
    "    _ = nd.zeros((1,), ctx= ctx)\n",
    "except:\n",
    "    ctx = mx.cpu()\n",
    "ctx"
   ]
  },
  {
   "cell_type": "code",
   "execution_count": 21,
   "metadata": {
    "collapsed": true
   },
   "outputs": [],
   "source": [
    "#我们使用MNIST常用的LeNet，它有两个卷积层，之后是两个全连接层。注意到我们将权重全部创建在ctx上：\n",
    "weight_scale = .01\n",
    "\n",
    "# output channels = 20, kernel = (5,5)\n",
    "W1 = nd.random_normal(shape=(20,1,5,5), scale=weight_scale, ctx=ctx)\n",
    "b1 = nd.zeros(W1.shape[0], ctx=ctx)\n",
    "\n",
    "# output channels = 50, kernel = (3,3)\n",
    "W2 = nd.random_normal(shape=(50,20,3,3), scale=weight_scale, ctx=ctx)\n",
    "b2 = nd.zeros(W2.shape[0], ctx=ctx)\n",
    "\n",
    "# output dim = 128\n",
    "W3 = nd.random_normal(shape=(1250, 128), scale=weight_scale, ctx=ctx)\n",
    "b3 = nd.zeros(W3.shape[1], ctx=ctx)\n",
    "\n",
    "# output dim = 10\n",
    "W4 = nd.random_normal(shape=(W3.shape[1], 10), scale=weight_scale, ctx=ctx)\n",
    "b4 = nd.zeros(W4.shape[1], ctx=ctx)\n",
    "\n",
    "params = [W1, b1, W2, b2, W3, b3, W4, b4]\n",
    "for param in params:\n",
    "    param.attach_grad()"
   ]
  },
  {
   "cell_type": "code",
   "execution_count": 22,
   "metadata": {
    "collapsed": true
   },
   "outputs": [],
   "source": [
    "#卷积模块通常是“卷积层-激活层-池化层”。然后转成2D矩阵输出给后面的全连接层\n",
    "\n",
    "def net(X, verbose=False):\n",
    "    X = X.as_in_context(W1.context)\n",
    "    # 第一层卷积\n",
    "    h1_conv = nd.Convolution(\n",
    "        data=X, weight=W1, bias=b1, kernel=W1.shape[2:], num_filter=W1.shape[0])\n",
    "    h1_activation = nd.relu(h1_conv)\n",
    "    h1 = nd.Pooling(\n",
    "        data=h1_activation, pool_type=\"max\", kernel=(2,2), stride=(2,2))\n",
    "    # 第二层卷积\n",
    "    h2_conv = nd.Convolution(\n",
    "        data=h1, weight=W2, bias=b2, kernel=W2.shape[2:], num_filter=W2.shape[0])\n",
    "    h2_activation = nd.relu(h2_conv)\n",
    "    h2 = nd.Pooling(data=h2_activation, pool_type=\"max\", kernel=(2,2), stride=(2,2))\n",
    "    h2 = nd.flatten(h2)\n",
    "    # 第一层全连接\n",
    "    h3_linear = nd.dot(h2, W3) + b3\n",
    "    h3 = nd.relu(h3_linear)\n",
    "    # 第二层全连接\n",
    "    h4_linear = nd.dot(h3, W4) + b4\n",
    "    if verbose:\n",
    "        print('1st conv block:', h1.shape)\n",
    "        print('2nd conv block:', h2.shape)\n",
    "        print('1st dense:', h3.shape)\n",
    "        print('2nd dense:', h4_linear.shape)\n",
    "        print('output:', h4_linear)\n",
    "    return h4_linear"
   ]
  },
  {
   "cell_type": "code",
   "execution_count": 23,
   "metadata": {},
   "outputs": [
    {
     "name": "stdout",
     "output_type": "stream",
     "text": [
      "1st conv block: (256, 20, 12, 12)\n",
      "2nd conv block: (256, 1250)\n",
      "1st dense: (256, 128)\n",
      "2nd dense: (256, 10)\n",
      "output: \n",
      "[[  4.16715084e-05   8.23824212e-06  -2.79558153e-05 ...,  -9.11795178e-06\n",
      "   -3.38688078e-05  -4.24654645e-05]\n",
      " [  9.62327686e-05  -1.25043571e-05  -1.02541107e-05 ...,  -1.48139634e-05\n",
      "   -9.95534283e-05  -1.25468883e-04]\n",
      " [  7.63516437e-05   3.55829543e-05  -2.85905280e-05 ...,  -1.68566985e-05\n",
      "   -4.30671971e-05  -6.78022625e-05]\n",
      " ..., \n",
      " [  2.07512367e-05  -4.14856140e-06  -8.20078094e-06 ...,  -2.16142689e-05\n",
      "   -1.86264460e-05  -4.01422185e-05]\n",
      " [  1.11817229e-04   3.66759596e-05  -3.51635681e-05 ...,  -2.50916073e-05\n",
      "   -3.50740411e-05  -1.00425525e-04]\n",
      " [  9.34213458e-05   5.37704509e-05  -3.53477444e-05 ...,  -1.93415963e-05\n",
      "   -2.93222256e-05  -9.04842309e-05]]\n",
      "<NDArray 256x10 @cpu(0)>\n"
     ]
    }
   ],
   "source": [
    "# 测试中间输出结果\n",
    "for data, _ in train_data:\n",
    "    net(data, verbose=True)\n",
    "    break"
   ]
  },
  {
   "cell_type": "code",
   "execution_count": 24,
   "metadata": {},
   "outputs": [
    {
     "ename": "TypeError",
     "evalue": "evaluate_accuracy() takes 2 positional arguments but 3 were given",
     "output_type": "error",
     "traceback": [
      "\u001b[1;31m---------------------------------------------------------------------------\u001b[0m",
      "\u001b[1;31mTypeError\u001b[0m                                 Traceback (most recent call last)",
      "\u001b[1;32m<ipython-input-24-2c6f70b31a9e>\u001b[0m in \u001b[0;36m<module>\u001b[1;34m()\u001b[0m\n\u001b[0;32m     24\u001b[0m         \u001b[0mtrain_acc\u001b[0m \u001b[1;33m+=\u001b[0m \u001b[0maccuracy\u001b[0m\u001b[1;33m(\u001b[0m\u001b[0moutput\u001b[0m\u001b[1;33m,\u001b[0m \u001b[0mlabel\u001b[0m\u001b[1;33m)\u001b[0m\u001b[1;33m\u001b[0m\u001b[0m\n\u001b[0;32m     25\u001b[0m \u001b[1;33m\u001b[0m\u001b[0m\n\u001b[1;32m---> 26\u001b[1;33m     \u001b[0mtest_acc\u001b[0m \u001b[1;33m=\u001b[0m \u001b[0mevaluate_accuracy\u001b[0m\u001b[1;33m(\u001b[0m\u001b[0mtest_data\u001b[0m\u001b[1;33m,\u001b[0m \u001b[0mnet\u001b[0m\u001b[1;33m,\u001b[0m \u001b[0mctx\u001b[0m\u001b[1;33m)\u001b[0m\u001b[1;33m\u001b[0m\u001b[0m\n\u001b[0m\u001b[0;32m     27\u001b[0m     print(\"Epoch %d. Loss: %f, Train acc %f, Test acc %f\" % (\n\u001b[0;32m     28\u001b[0m         \u001b[0mepoch\u001b[0m\u001b[1;33m,\u001b[0m \u001b[0mtrain_loss\u001b[0m\u001b[1;33m/\u001b[0m\u001b[0mlen\u001b[0m\u001b[1;33m(\u001b[0m\u001b[0mtrain_data\u001b[0m\u001b[1;33m)\u001b[0m\u001b[1;33m,\u001b[0m\u001b[1;33m\u001b[0m\u001b[0m\n",
      "\u001b[1;31mTypeError\u001b[0m: evaluate_accuracy() takes 2 positional arguments but 3 were given"
     ]
    }
   ],
   "source": [
    "\"\"\"\n",
    "3. 训练\n",
    "\"\"\"\n",
    "from mxnet import autograd as autograd\n",
    "from utils import SGD, accuracy, evaluate_accuracy\n",
    "from mxnet import gluon\n",
    "\n",
    "softmax_cross_entropy = gluon.loss.SoftmaxCrossEntropyLoss()\n",
    "\n",
    "learning_rate = .2\n",
    "\n",
    "for epoch in range(5):\n",
    "    train_loss = 0.\n",
    "    train_acc = 0.\n",
    "    for data, label in train_data:\n",
    "        label = label.as_in_context(ctx)\n",
    "        with autograd.record():\n",
    "            output = net(data)\n",
    "            loss = softmax_cross_entropy(output, label)\n",
    "        loss.backward()\n",
    "        SGD(params, learning_rate/batch_size)\n",
    "\n",
    "        train_loss += nd.mean(loss).asscalar()\n",
    "        train_acc += accuracy(output, label)\n",
    "\n",
    "    test_acc = evaluate_accuracy(test_data, net, ctx)\n",
    "    print(\"Epoch %d. Loss: %f, Train acc %f, Test acc %f\" % (\n",
    "        epoch, train_loss/len(train_data),\n",
    "        train_acc/len(train_data), test_acc))"
   ]
  },
  {
   "cell_type": "code",
   "execution_count": null,
   "metadata": {
    "collapsed": true
   },
   "outputs": [],
   "source": []
  }
 ],
 "metadata": {
  "kernelspec": {
   "display_name": "Python 3",
   "language": "python",
   "name": "python3"
  },
  "language_info": {
   "codemirror_mode": {
    "name": "ipython",
    "version": 3
   },
   "file_extension": ".py",
   "mimetype": "text/x-python",
   "name": "python",
   "nbconvert_exporter": "python",
   "pygments_lexer": "ipython3",
   "version": "3.5.2"
  }
 },
 "nbformat": 4,
 "nbformat_minor": 2
}
