{
 "cells": [
  {
   "cell_type": "code",
   "execution_count": 65,
   "metadata": {},
   "outputs": [],
   "source": [
    "\"\"\"\n",
    "1. 读取数据\n",
    "\"\"\"\n",
    "import sys\n",
    "sys.path.append(\"..\")\n",
    "import utils\n",
    "\n",
    "batch_size = 256\n",
    "train_data, test_data = utils.load_data_fashion_mnist(batch_size)"
   ]
  },
  {
   "cell_type": "code",
   "execution_count": 66,
   "metadata": {
    "collapsed": true
   },
   "outputs": [],
   "source": [
    "\"\"\"\n",
    "2. 定义损失函数\n",
    "\"\"\"\n",
    "from mxnet import gluon\n",
    "\n",
    "softmax_cross_entropy = gluon.loss.SoftmaxCrossEntropyLoss()\n"
   ]
  },
  {
   "cell_type": "code",
   "execution_count": 67,
   "metadata": {},
   "outputs": [],
   "source": [
    "\"\"\"\n",
    "3. 定义模型\n",
    "\"\"\"\n",
    "net = gluon.nn.Sequential()\n",
    "with net.name_scope():\n",
    "    net.add(gluon.nn.Flatten())\n",
    "    net.add(gluon.nn.Dense(256,activation= \"relu\"))   #relu, sigmoid, tanh, softrelu 整体效果relu表现突出\n",
    "#     net.add(gluon.nn.Dense(256,activation= \"softrelu\"))\n",
    "#     net.add(gluon.nn.Dense(256,activation= \"relu\"))\n",
    "    net.add(gluon.nn.Dense(10))\n",
    "net.initialize()"
   ]
  },
  {
   "cell_type": "code",
   "execution_count": 68,
   "metadata": {
    "collapsed": true
   },
   "outputs": [],
   "source": [
    "\"\"\"\n",
    "4. 优化器\n",
    "\"\"\"\n",
    "trainer = gluon.Trainer(net.collect_params(),optimizer= 'sgd',optimizer_params={'learning_rate': .5})"
   ]
  },
  {
   "cell_type": "code",
   "execution_count": 69,
   "metadata": {},
   "outputs": [
    {
     "name": "stdout",
     "output_type": "stream",
     "text": [
      "Epoch: 0, Loss: 0.716440, Train acc: 0.736128, Test acc: 0.786058\n",
      "Epoch: 1, Loss: 0.465891, Train acc: 0.827307, Test acc: 0.850260\n",
      "Epoch: 2, Loss: 0.412151, Train acc: 0.847723, Test acc: 0.854367\n",
      "Epoch: 3, Loss: 0.376224, Train acc: 0.861495, Test acc: 0.860477\n",
      "Epoch: 4, Loss: 0.358780, Train acc: 0.868339, Test acc: 0.862580\n",
      "Epoch: 5, Loss: 0.339785, Train acc: 0.876352, Test acc: 0.878606\n",
      "Epoch: 6, Loss: 0.325755, Train acc: 0.879641, Test acc: 0.883914\n",
      "Epoch: 7, Loss: 0.311383, Train acc: 0.885016, Test acc: 0.880208\n",
      "Epoch: 8, Loss: 0.308345, Train acc: 0.886452, Test acc: 0.878606\n",
      "Epoch: 9, Loss: 0.291553, Train acc: 0.891944, Test acc: 0.870493\n"
     ]
    }
   ],
   "source": [
    "\"\"\"\n",
    "5. 训练\n",
    "\"\"\"\n",
    "from mxnet import autograd\n",
    "from mxnet import ndarray as nd\n",
    "\n",
    "for epoch in range(10):\n",
    "    train_acc = 0.\n",
    "    train_loss = 0.\n",
    "    for data, label in train_data:\n",
    "        with autograd.record():\n",
    "            output = net(data)\n",
    "            loss = softmax_cross_entropy(output, label)\n",
    "        loss.backward()\n",
    "        trainer.step(batch_size)\n",
    "        \n",
    "        train_acc += utils.accuracy(output, label)\n",
    "        train_loss += nd.mean(loss).asscalar()\n",
    "    test_acc = utils.evaluate_accuracy(test_data, net)\n",
    "    print('Epoch: %d, Loss: %f, Train acc: %f, Test acc: %f'%(epoch,train_loss/len(train_data),\n",
    "                                                             train_acc/len(train_data), test_acc))"
   ]
  },
  {
   "cell_type": "code",
   "execution_count": 70,
   "metadata": {},
   "outputs": [
    {
     "name": "stdout",
     "output_type": "stream",
     "text": [
      "Help on function Activation:\n",
      "\n",
      "Activation(data=None, act_type=_Null, out=None, name=None, **kwargs)\n",
      "    Applies an activation function element-wise to the input.\n",
      "    \n",
      "    The following activation functions are supported:\n",
      "    \n",
      "    - `relu`: Rectified Linear Unit, :math:`y = max(x, 0)`\n",
      "    - `sigmoid`: :math:`y = \\frac{1}{1 + exp(-x)}`\n",
      "    - `tanh`: Hyperbolic tangent, :math:`y = \\frac{exp(x) - exp(-x)}{exp(x) + exp(-x)}`\n",
      "    - `softrelu`: Soft ReLU, or SoftPlus, :math:`y = log(1 + exp(x))`\n",
      "    \n",
      "    \n",
      "    \n",
      "    Defined in C:\\projects\\mxnet-distro-win\\mxnet-build\\src\\operator\\activation.cc:L92\n",
      "    \n",
      "    Parameters\n",
      "    ----------\n",
      "    data : NDArray\n",
      "        Input array to activation function.\n",
      "    act_type : {'relu', 'sigmoid', 'softrelu', 'tanh'}, required\n",
      "        Activation function to be applied.\n",
      "    \n",
      "    out : NDArray, optional\n",
      "        The output NDArray to hold the result.\n",
      "    \n",
      "    Returns\n",
      "    -------\n",
      "    out : NDArray or list of NDArrays\n",
      "        The output of this function.\n",
      "\n"
     ]
    }
   ],
   "source": [
    "help(nd.Activation)"
   ]
  },
  {
   "cell_type": "code",
   "execution_count": null,
   "metadata": {
    "collapsed": true
   },
   "outputs": [],
   "source": []
  }
 ],
 "metadata": {
  "kernelspec": {
   "display_name": "Python 3",
   "language": "python",
   "name": "python3"
  },
  "language_info": {
   "codemirror_mode": {
    "name": "ipython",
    "version": 3
   },
   "file_extension": ".py",
   "mimetype": "text/x-python",
   "name": "python",
   "nbconvert_exporter": "python",
   "pygments_lexer": "ipython3",
   "version": "3.5.2"
  }
 },
 "nbformat": 4,
 "nbformat_minor": 2
}
