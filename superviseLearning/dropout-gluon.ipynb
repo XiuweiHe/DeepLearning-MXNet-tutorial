{
 "cells": [
  {
   "cell_type": "code",
   "execution_count": 9,
   "metadata": {},
   "outputs": [],
   "source": [
    "\"\"\"\n",
    "1. 定义模型添加dropout层\n",
    "\"\"\"\n",
    "from mxnet import gluon\n",
    "from mxnet import autograd\n",
    "\n",
    "drop_prob1 = .2\n",
    "drop_prob2 = .5\n",
    "\n",
    "net = gluon.nn.Sequential()\n",
    "with net.name_scope():\n",
    "    net.add(gluon.nn.Flatten())\n",
    "    net.add(gluon.nn.Dense(256, activation= 'relu'))\n",
    "    if autograd.is_training:\n",
    "        net.add(gluon.nn.Dropout(drop_prob1))\n",
    "    net.add(gluon.nn.Dense(256, activation= 'relu'))\n",
    "    if autograd.is_training:\n",
    "        net.add(gluon.nn.Dropout(drop_prob2))\n",
    "    net.add(gluon.nn.Dense(10))\n",
    "net.initialize()    "
   ]
  },
  {
   "cell_type": "code",
   "execution_count": 10,
   "metadata": {},
   "outputs": [
    {
     "name": "stdout",
     "output_type": "stream",
     "text": [
      "Epoch 0. Loss: 0.817604, Train acc 0.693710, Test acc 0.811498\n",
      "Epoch 5. Loss: 0.376432, Train acc 0.862814, Test acc 0.869391\n",
      "Epoch 10. Loss: 0.322631, Train acc 0.880459, Test acc 0.878405\n",
      "Epoch 15. Loss: 0.289582, Train acc 0.892261, Test acc 0.887220\n",
      "Epoch 20. Loss: 0.271864, Train acc 0.899172, Test acc 0.894832\n",
      "Epoch 25. Loss: 0.250761, Train acc 0.905599, Test acc 0.894932\n",
      "Epoch 30. Loss: 0.238235, Train acc 0.909572, Test acc 0.893129\n",
      "Epoch 35. Loss: 0.224854, Train acc 0.915698, Test acc 0.897336\n",
      "Epoch 40. Loss: 0.216804, Train acc 0.916800, Test acc 0.895232\n",
      "Epoch 45. Loss: 0.208390, Train acc 0.921725, Test acc 0.898137\n",
      "Epoch 50. Loss: 0.200795, Train acc 0.924813, Test acc 0.898738\n",
      "Epoch 55. Loss: 0.191592, Train acc 0.926816, Test acc 0.903546\n",
      "Epoch 60. Loss: 0.183124, Train acc 0.929671, Test acc 0.899439\n",
      "Epoch 65. Loss: 0.180312, Train acc 0.932325, Test acc 0.901042\n",
      "Epoch 70. Loss: 0.176590, Train acc 0.932192, Test acc 0.901142\n",
      "Epoch 75. Loss: 0.166686, Train acc 0.936281, Test acc 0.900942\n",
      "Epoch 80. Loss: 0.162949, Train acc 0.939403, Test acc 0.897336\n",
      "Epoch 85. Loss: 0.160900, Train acc 0.938952, Test acc 0.901242\n",
      "Epoch 90. Loss: 0.151546, Train acc 0.942441, Test acc 0.901142\n",
      "Epoch 95. Loss: 0.151196, Train acc 0.942391, Test acc 0.902544\n",
      "Epoch 100. Loss: 0.146135, Train acc 0.943960, Test acc 0.901442\n",
      "Epoch 105. Loss: 0.143495, Train acc 0.944528, Test acc 0.905148\n",
      "Epoch 110. Loss: 0.138422, Train acc 0.946898, Test acc 0.902344\n",
      "Epoch 115. Loss: 0.136617, Train acc 0.948885, Test acc 0.901843\n",
      "Epoch 120. Loss: 0.129226, Train acc 0.951322, Test acc 0.901142\n",
      "Epoch 125. Loss: 0.128222, Train acc 0.951656, Test acc 0.904547\n",
      "Epoch 130. Loss: 0.122652, Train acc 0.953092, Test acc 0.901242\n",
      "Epoch 135. Loss: 0.122608, Train acc 0.953392, Test acc 0.902344\n",
      "Epoch 140. Loss: 0.121439, Train acc 0.954043, Test acc 0.901142\n",
      "Epoch 145. Loss: 0.117142, Train acc 0.955996, Test acc 0.900841\n",
      "Epoch 150. Loss: 0.115608, Train acc 0.956130, Test acc 0.900741\n",
      "Epoch 155. Loss: 0.113850, Train acc 0.956964, Test acc 0.900541\n",
      "Epoch 160. Loss: 0.112812, Train acc 0.957165, Test acc 0.903145\n",
      "Epoch 165. Loss: 0.110711, Train acc 0.958851, Test acc 0.902644\n",
      "Epoch 170. Loss: 0.105647, Train acc 0.959986, Test acc 0.901542\n",
      "Epoch 175. Loss: 0.103661, Train acc 0.961288, Test acc 0.901743\n",
      "Epoch 180. Loss: 0.103008, Train acc 0.960938, Test acc 0.904547\n",
      "Epoch 185. Loss: 0.102549, Train acc 0.961739, Test acc 0.902444\n",
      "Epoch 190. Loss: 0.102900, Train acc 0.960854, Test acc 0.903446\n",
      "Epoch 195. Loss: 0.096979, Train acc 0.963341, Test acc 0.903646\n"
     ]
    }
   ],
   "source": [
    "\"\"\"\n",
    "2. 训练\n",
    "\"\"\"\n",
    "import sys\n",
    "sys.path.append('..')\n",
    "import utils\n",
    "from mxnet import ndarray as nd\n",
    "\n",
    "batch_size = 256\n",
    "train_data, test_data = utils.load_data_fashion_mnist(batch_size)\n",
    "\n",
    "softmax_cross_entropy = gluon.loss.SoftmaxCrossEntropyLoss()\n",
    "trainer = gluon.Trainer(net.collect_params(),\n",
    "                        'sgd', {'learning_rate': 0.5})\n",
    "\n",
    "for epoch in range(200):\n",
    "    train_loss = 0.\n",
    "    train_acc = 0.\n",
    "    for data, label in train_data:\n",
    "        with autograd.record():\n",
    "            output = net(data)\n",
    "            loss = softmax_cross_entropy(output, label)\n",
    "        loss.backward()\n",
    "        trainer.step(batch_size)\n",
    "\n",
    "        train_loss += nd.mean(loss).asscalar()\n",
    "        train_acc += utils.accuracy(output, label)\n",
    "\n",
    "    test_acc = utils.evaluate_accuracy(test_data, net)\n",
    "    if epoch% 5 ==0:\n",
    "        print(\"Epoch %d. Loss: %f, Train acc %f, Test acc %f\" % (epoch, train_loss/len(train_data),\n",
    "                                                                 train_acc/len(train_data), test_acc))"
   ]
  },
  {
   "cell_type": "code",
   "execution_count": null,
   "metadata": {
    "collapsed": true
   },
   "outputs": [],
   "source": []
  }
 ],
 "metadata": {
  "kernelspec": {
   "display_name": "Python 3",
   "language": "python",
   "name": "python3"
  },
  "language_info": {
   "codemirror_mode": {
    "name": "ipython",
    "version": 3
   },
   "file_extension": ".py",
   "mimetype": "text/x-python",
   "name": "python",
   "nbconvert_exporter": "python",
   "pygments_lexer": "ipython3",
   "version": "3.5.2"
  }
 },
 "nbformat": 4,
 "nbformat_minor": 2
}
